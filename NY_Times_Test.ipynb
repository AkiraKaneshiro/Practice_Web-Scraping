{
 "metadata": {
  "name": "",
  "signature": "sha256:2603c5fba3c922e71db10438b406f656456ae13c1e7c5d18ce801bbc54d491be"
 },
 "nbformat": 3,
 "nbformat_minor": 0,
 "worksheets": [
  {
   "cells": [
    {
     "cell_type": "code",
     "collapsed": false,
     "input": [
      "import requests\n",
      "from pymongo import MongoClient, errors\n",
      "from bson.objectid import ObjectId\n",
      "from bs4 import BeautifulSoup\n",
      "import itertools\n",
      "import json\n",
      "import re\n",
      "import time"
     ],
     "language": "python",
     "metadata": {},
     "outputs": [],
     "prompt_number": 10
    },
    {
     "cell_type": "code",
     "collapsed": false,
     "input": [
      "def get_articles(url, query, start, end, key, page):\n",
      "    params = {\n",
      "#         'q': query, \n",
      "#         'begin_date': start,\n",
      "#         'end_date':end,\n",
      "        'fq': \"document_type('article')\",\n",
      "        'sort': 'newest',\n",
      "        'page': page,\n",
      "        'api-key': key\n",
      "        }\n",
      "\n",
      "    r = requests.get(url, params=params)\n",
      "    data = r.json()\n",
      "    return data['response']['docs']"
     ],
     "language": "python",
     "metadata": {},
     "outputs": [],
     "prompt_number": 17
    },
    {
     "cell_type": "code",
     "collapsed": false,
     "input": [
      "# to resolve 100000 get the earliest date in the database as end date - convert date - pass it in as end date to run the get data again"
     ],
     "language": "python",
     "metadata": {},
     "outputs": []
    },
    {
     "cell_type": "code",
     "collapsed": false,
     "input": [
      "def capture_data(url, query, start, end, key):    \n",
      "    page = 0\n",
      "    data = []\n",
      "    results = get_articles(url, query, start, end, key, page)\n",
      "    data.extend(results)\n",
      "\n",
      "    while results and page <= 98:\n",
      "        page+=1\n",
      "        if (page % 10) == 0: \n",
      "            time.sleep(10)\n",
      "            \n",
      "        results = get_articles(url, query, start, end, key, page)\n",
      "        data.extend(results)\n",
      " \n",
      "    \n",
      "    print \"Number pages captured\", page\n",
      "    return data\n",
      " "
     ],
     "language": "python",
     "metadata": {},
     "outputs": [],
     "prompt_number": 18
    },
    {
     "cell_type": "code",
     "collapsed": false,
     "input": [
      "def store_mongo(collection, data):\n",
      "    try:\n",
      "        collection.insert(data, continue_on_error=True)\n",
      "    except errors.DuplicateKeyError:\n",
      "        pass"
     ],
     "language": "python",
     "metadata": {},
     "outputs": [],
     "prompt_number": 19
    },
    {
     "cell_type": "code",
     "collapsed": false,
     "input": [
      "def get_info(collection):\n",
      "    return collection.find_one()"
     ],
     "language": "python",
     "metadata": {},
     "outputs": [],
     "prompt_number": 76
    },
    {
     "cell_type": "code",
     "collapsed": false,
     "input": [
      "def build_model():\n",
      "    url = 'http://api.nytimes.com/svc/search/v2/articlesearch.json?'\n",
      "    query = 'Olympics'\n",
      "    start_date = '20140207'\n",
      "    end_date = '20140207'\n",
      "    key = # Use ref\n",
      "\n",
      "    client = MongoClient()\n",
      "    client.drop_database('ny_db')\n",
      "\n",
      "    db = client.ny_db # database\n",
      "    collection = db.ny_collections # table\n",
      "\n",
      "    \n",
      "    data = capture_data(url, query, start_date, end_date, key)\n",
      "\n",
      "    store_mongo(collection, data)\n",
      "    return data"
     ],
     "language": "python",
     "metadata": {},
     "outputs": [],
     "prompt_number": 21
    },
    {
     "cell_type": "code",
     "collapsed": false,
     "input": [
      "data = build_model()"
     ],
     "language": "python",
     "metadata": {},
     "outputs": [
      {
       "output_type": "stream",
       "stream": "stdout",
       "text": [
        "\n",
        "CaseInsensitiveDict({'content-length': '20181', 'x-powered-by': 'PHP/5.3.27', 'accept-ranges': 'bytes', 'vary': 'Accept-Encoding', 'server': 'nginx/1.4.1', 'connection': 'keep-alive', 'access-control-allow-credentials': 'true', 'date': 'Tue, 11 Feb 2014 19:09:15 GMT', 'x-mashery-responder': 'prod-p-worker-atl-01.mashery.com', 'x-cached': 'EXPIRED', 'content-type': 'application/json; charset=UTF-8', 'access-control-allow-origin': '*'})"
       ]
      },
      {
       "output_type": "stream",
       "stream": "stdout",
       "text": [
        "\n",
        "CaseInsensitiveDict({'content-length': '17132', 'x-powered-by': 'PHP/5.3.27', 'accept-ranges': 'bytes', 'vary': 'Accept-Encoding', 'server': 'nginx/1.4.1', 'connection': 'keep-alive', 'access-control-allow-credentials': 'true', 'date': 'Tue, 11 Feb 2014 19:09:16 GMT', 'x-mashery-responder': 'prod-p-worker-atl-02.mashery.com', 'x-cached': 'MISS', 'content-type': 'application/json; charset=UTF-8', 'access-control-allow-origin': '*'})"
       ]
      },
      {
       "output_type": "stream",
       "stream": "stdout",
       "text": [
        "\n",
        "Number pages captured 11\n"
       ]
      },
      {
       "output_type": "stream",
       "stream": "stdout",
       "text": [
        "Number pages captured 11\n"
       ]
      }
     ],
     "prompt_number": 22
    },
    {
     "cell_type": "code",
     "collapsed": false,
     "input": [
      "print data[0].keys()\n",
      "print data[2]['document_type']\n",
      "print data[2]['web_url']"
     ],
     "language": "python",
     "metadata": {},
     "outputs": [
      {
       "output_type": "stream",
       "stream": "stdout",
       "text": [
        "[u'type_of_material', u'blog', u'news_desk', u'lead_paragraph', u'headline', u'abstract', u'print_page', u'word_count', u'_id', u'snippet', u'source', u'web_url', u'multimedia', u'subsection_name', u'keywords', u'byline', u'document_type', u'pub_date', u'section_name']\n",
        "article\n",
        "http://www.nytimes.com/reuters/2014/02/11/world/asia/11reuters-india-hindus.html\n"
       ]
      }
     ],
     "prompt_number": 23
    },
    {
     "cell_type": "code",
     "collapsed": false,
     "input": [
      "def get_raw_html(collection):\n",
      "    timeout_count = 1\n",
      "    for article in collection.find():\n",
      "        if (timeout_count % 10) == 0:\n",
      "            time.sleep(10)\n",
      "        html = requests.get(article['web_url'])\n",
      "        if html.status_code == 200:\n",
      "            collection.update({'web_url':article['web_url']}, {'$set': {'raw_html':html.text}})\n",
      "    \n",
      "            soup = BeautifulSoup(html.text, \"html.parser\")        \n",
      "            doc_type = article['document_type']\n",
      "            result = \"\"\n",
      "            \n",
      "            for content in soup.find_all(\"p\", class_=\"story-body-text\"):\n",
      "                result += content.text\n",
      "            collection.update({'web_url':article['web_url']}, {'$set': {'article_content':result}})\n",
      "        timeout_count += 1\n",
      "    print collection.find_one()"
     ],
     "language": "python",
     "metadata": {},
     "outputs": [],
     "prompt_number": 66
    },
    {
     "cell_type": "code",
     "collapsed": false,
     "input": [
      "def main():\n",
      "\n",
      "    client = MongoClient()\n",
      "#     client.drop_database('ny_db')\n",
      "\n",
      "    db = client.ny_db # database\n",
      "    collection = db.ny_collections # table\n",
      "\n",
      "#     data = build_model(collection)\n",
      "#     get_raw_html(collection)\n",
      "    return get_info(collection)\n",
      "    "
     ],
     "language": "python",
     "metadata": {},
     "outputs": [],
     "prompt_number": 77
    },
    {
     "cell_type": "code",
     "collapsed": false,
     "input": [
      "result = main()\n",
      "print result['subsection_name']"
     ],
     "language": "python",
     "metadata": {},
     "outputs": [
      {
       "output_type": "stream",
       "stream": "stdout",
       "text": [
        "International Business\n"
       ]
      }
     ],
     "prompt_number": 80
    },
    {
     "cell_type": "code",
     "collapsed": false,
     "input": [
      "def get_link_data():\n",
      "    pass"
     ],
     "language": "python",
     "metadata": {},
     "outputs": []
    },
    {
     "cell_type": "code",
     "collapsed": false,
     "input": [
      "print header.url\n",
      "print result['response']['docs'][1]['headline']['print_headline'] #.keys()"
     ],
     "language": "python",
     "metadata": {},
     "outputs": []
    },
    {
     "cell_type": "code",
     "collapsed": false,
     "input": [],
     "language": "python",
     "metadata": {},
     "outputs": []
    }
   ],
   "metadata": {}
  }
 ]
}
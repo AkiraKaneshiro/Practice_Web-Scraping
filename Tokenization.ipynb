{
 "metadata": {
  "name": ""
 },
 "nbformat": 3,
 "nbformat_minor": 0,
 "worksheets": [
  {
   "cells": [
    {
     "cell_type": "code",
     "collapsed": false,
     "input": [
      "import sqlite3\n",
      "import json\n",
      "import nltk, re"
     ],
     "language": "python",
     "metadata": {},
     "outputs": [],
     "prompt_number": 30
    },
    {
     "cell_type": "code",
     "collapsed": false,
     "input": [
      "def create_tables(db, table_name, values):\n",
      "    db.execute('''create table %s(%s)''' % (table_name, values))\n"
     ],
     "language": "python",
     "metadata": {},
     "outputs": [],
     "prompt_number": 2
    },
    {
     "cell_type": "code",
     "collapsed": false,
     "input": [
      "def create_index(db, count, table_name, idx_col):\n",
      "      db.execute('''create index idx%s on %s (%s)''' % (count, table_name, idx_col))  "
     ],
     "language": "python",
     "metadata": {},
     "outputs": [],
     "prompt_number": 6
    },
    {
     "cell_type": "code",
     "collapsed": false,
     "input": [
      "def get_data(filename):\n",
      "    with open(filename) as f:\n",
      "        data = json.load(f)\n",
      "    return data\n",
      "        "
     ],
     "language": "python",
     "metadata": {},
     "outputs": [],
     "prompt_number": 27
    },
    {
     "cell_type": "code",
     "collapsed": false,
     "input": [
      "def token_it(article):\n",
      "    tokens = nltk.word_tokenize(article)\n",
      "    return tokens"
     ],
     "language": "python",
     "metadata": {},
     "outputs": [],
     "prompt_number": 164
    },
    {
     "cell_type": "code",
     "collapsed": false,
     "input": [
      "def index_token(db, data, article, word_id, url_id, conn):\n",
      "    db.execute('''insert into urls (id, url) values (%d, \"%s\", %s)''' % (url_id, str(article['web_url']), article['subsection_name']))\n",
      "\n",
      "    for idx, word in enumerate(data):\n",
      "        w_obj = db.execute('''select id from wordlist where word = \"%s\"''' % word)\n",
      "            \n",
      "        if w_obj.fetchone() is None:\n",
      "            w_id = word_id\n",
      "            word_id += 1\n",
      "            db.execute('''insert into wordlist (id, word) values (%d, \"%s\")''' % (w_id, word) )\n",
      "\n",
      "        db.execute('''insert into wordlocation (url_id, word_id, location) values (%d, %d, %d)''' % (url_id, w_id, idx) )\n",
      "\n",
      "        conn.commit()\n",
      "    return word_id  "
     ],
     "language": "python",
     "metadata": {},
     "outputs": [],
     "prompt_number": 264
    },
    {
     "cell_type": "code",
     "collapsed": false,
     "input": [
      "def store_data(db, conn, raw_data):\n",
      "    word_id, url_id = 0, 0\n",
      "    for article in raw_data:\n",
      "#         clean_data = clean(article)\n",
      "\n",
      "        # skipped first sentence and will need to concat it in\n",
      "        token=token_it(article['content'][1])\n",
      "        token_lower = [word.lower() for word in token]\n",
      "        word_id = index_token(db, token_lower, article, word_id, url_id, conn)\n",
      "        url_id += 1\n",
      "        break"
     ],
     "language": "python",
     "metadata": {},
     "outputs": [],
     "prompt_number": 265
    },
    {
     "cell_type": "code",
     "collapsed": false,
     "input": [
      "def main():\n",
      "    conn = sqlite3.connect('./data/token_db')\n",
      "    db = conn.cursor()\n",
      "    table_data = {\n",
      "                  \"urls\": [\"id integer PRIMARY KEY, url text, label text\", \"id\"],\n",
      "                  \"wordlist\": [\"id integer PRIMARY KEY, word text\", \"id\"],\n",
      "                  \"wordlocation\": [\"id integer PRIMARY KEY AUTOINCREMENT NOT NULL, url_id integer, word_id integer, location integer, FOREIGN KEY(url_id) REFERENCES urls(id),  FOREIGN KEY(word_id) REFERENCES wordlist(id)\", \"id\"]\n",
      "                  }\n",
      "    filename = \"./data/articles_html1000.json\"\n",
      "# Create table    \n",
      "    idx = 0\n",
      "    for name, params in table_data.iteritems():\n",
      "        create_tables(db, name, params[0])\n",
      "        create_index(db, idx, name, params[1])\n",
      "        idx += 1\n",
      "\n",
      "# get data\n",
      "    raw_data = get_data(filename)\n",
      "    store_data(db, conn, raw_data) \n",
      "    \n",
      "    conn.commit()\n",
      "    db.close()\n",
      "    \n",
      "    return raw_data\n",
      "\n",
      "    "
     ],
     "language": "python",
     "metadata": {},
     "outputs": [],
     "prompt_number": 266
    },
    {
     "cell_type": "code",
     "collapsed": false,
     "input": [
      "result = main()\n",
      "# print len(result)\n",
      "# print result[0]"
     ],
     "language": "python",
     "metadata": {},
     "outputs": [],
     "prompt_number": 267
    },
    {
     "cell_type": "code",
     "collapsed": false,
     "input": [],
     "language": "python",
     "metadata": {},
     "outputs": [],
     "prompt_number": 133
    },
    {
     "cell_type": "code",
     "collapsed": false,
     "input": [],
     "language": "python",
     "metadata": {},
     "outputs": []
    }
   ],
   "metadata": {}
  }
 ]
}